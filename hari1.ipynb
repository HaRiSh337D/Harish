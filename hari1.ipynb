{
  "nbformat": 4,
  "nbformat_minor": 0,
  "metadata": {
    "colab": {
      "provenance": [],
      "authorship_tag": "ABX9TyPO67gbgj7EF/3X+2dpSOyH",
      "include_colab_link": true
    },
    "kernelspec": {
      "name": "python3",
      "display_name": "Python 3"
    },
    "language_info": {
      "name": "python"
    }
  },
  "cells": [
    {
      "cell_type": "markdown",
      "metadata": {
        "id": "view-in-github",
        "colab_type": "text"
      },
      "source": [
        "<a href=\"https://colab.research.google.com/github/HaRiSh337D/Harish/blob/main/hari1.ipynb\" target=\"_parent\"><img src=\"https://colab.research.google.com/assets/colab-badge.svg\" alt=\"Open In Colab\"/></a>"
      ]
    },
    {
      "cell_type": "code",
      "execution_count": 4,
      "metadata": {
        "colab": {
          "base_uri": "https://localhost:8080/"
        },
        "id": "_Jeb9RM57tYU",
        "outputId": "0c57f4be-18f0-4a58-cdff-a61a76e4cc8b"
      },
      "outputs": [
        {
          "output_type": "stream",
          "name": "stdout",
          "text": [
            "     Name   company  salary\n",
            "0  harish  datalabs   20000\n",
            "1  suresh       tcs   50000\n",
            "2   kiran     wipro   56000\n",
            "3  umasai      hsbc   58000\n"
          ]
        }
      ],
      "source": [
        "import pandas as pd\n",
        "import numpy as np\n",
        "a={'Name':['harish','suresh','kiran','umasai'],'company':['datalabs','tcs','wipro','hsbc'],'salary':[20000,50000,56000,58000]}\n",
        "b=pd.DataFrame(a)\n",
        "print(b)"
      ]
    },
    {
      "cell_type": "code",
      "source": [
        "b['salary'].mean()"
      ],
      "metadata": {
        "colab": {
          "base_uri": "https://localhost:8080/"
        },
        "id": "oNQyqm_C8-B-",
        "outputId": "487171c8-4933-4ea4-8eaa-b34471f0da92"
      },
      "execution_count": 7,
      "outputs": [
        {
          "output_type": "execute_result",
          "data": {
            "text/plain": [
              "46000.0"
            ]
          },
          "metadata": {},
          "execution_count": 7
        }
      ]
    },
    {
      "cell_type": "code",
      "source": [],
      "metadata": {
        "id": "PiRGB90R9M92"
      },
      "execution_count": null,
      "outputs": []
    }
  ]
}